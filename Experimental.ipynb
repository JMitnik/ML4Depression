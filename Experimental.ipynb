{
 "cells": [
  {
   "cell_type": "markdown",
   "metadata": {},
   "source": [
    "## Importing the associated modules"
   ]
  },
  {
   "cell_type": "code",
   "execution_count": 12,
   "metadata": {
    "ExecuteTime": {
     "end_time": "2018-07-03T07:45:37.243384Z",
     "start_time": "2018-07-03T07:45:37.162633Z"
    }
   },
   "outputs": [
    {
     "name": "stdout",
     "output_type": "stream",
     "text": [
      "The autoreload extension is already loaded. To reload it, use:\n",
      "  %reload_ext autoreload\n"
     ]
    }
   ],
   "source": [
    "%load_ext autoreload\n",
    "%autoreload 2\n",
    "%matplotlib inline\n",
    "\n",
    "import pandas as pd\n",
    "import numpy as npr\n",
    "import functools\n",
    "import matplotlib.pyplot as plt\n",
    "import sklearn as sk\n",
    "from sklearn import metrics, linear_model, ensemble, neural_network, svm, dummy\n",
    "from helpers import *\n",
    "\n",
    "# Importing the different features\n",
    "from ema_features import get_EMA_features_and_target_for_patient, read_EMA_code, init_EMA_patient\n",
    "from module_features import get_module_features_for_patient, read_module_data\n",
    "from context_features import get_weekend_days\n",
    "\n",
    "# Importing the machine learning module\n",
    "from predicting import train_algorithms, test_algorithms, eval_algorithms, plot_algorithms, make_algorithms\n",
    "from feature_selection import backward_selection, forward_selection, correlate_features, precalculated_feature_selection\n",
    "\n",
    "# Importing multiple patient wrapper\n",
    "from individual_wrappers import *"
   ]
  },
  {
   "cell_type": "markdown",
   "metadata": {},
   "source": [
    "## Initializing constants"
   ]
  },
  {
   "cell_type": "code",
   "execution_count": 13,
   "metadata": {
    "ExecuteTime": {
     "end_time": "2018-07-03T07:45:40.398768Z",
     "start_time": "2018-07-03T07:45:40.331057Z"
    },
    "collapsed": true
   },
   "outputs": [],
   "source": [
    "SLIDING_WINDOW = 7\n",
    "RIDGE_ALPHAS = (0.0001, 0.0005, 0.001, 0.005, 0.01, 0.05, 0.1, 0.2, 0.3, 0.4, 0.5, 0.6, 0.7)\n",
    "LASSO_ALPHAS = (0.0001, 0.0005, 0.001, 0.005, 0.01, 0.05, 0.1, 0.5)\n",
    "MAX_PATIENTS = 10\n",
    "FEATURE_PATH = \"data/features/\""
   ]
  },
  {
   "cell_type": "markdown",
   "metadata": {
    "heading_collapsed": true
   },
   "source": [
    "## Defining our Machine Learning Algorithms"
   ]
  },
  {
   "cell_type": "code",
   "execution_count": null,
   "metadata": {
    "ExecuteTime": {
     "end_time": "2018-07-03T07:36:39.203014Z",
     "start_time": "2018-07-03T07:36:39.154560Z"
    },
    "collapsed": true,
    "hidden": true
   },
   "outputs": [],
   "source": [
    "ml_algorithms = [\n",
    "    {\n",
    "        \"name\": \"Lasso\",\n",
    "        \"model\": linear_model.LassoCV(alphas=LASSO_ALPHAS)\n",
    "    },\n",
    "    {\n",
    "        \"name\": \"Ridge\",\n",
    "        \"model\": linear_model.RidgeCV(alphas=RIDGE_ALPHAS)\n",
    "    },\n",
    "    {\n",
    "        \"name\": \"Random Forest\",\n",
    "        \"model\": ensemble.RandomForestRegressor(n_estimators=1000, max_depth=2)\n",
    "    },\n",
    "    {\n",
    "        \"name\": \"Dummy Mean Regressor\",\n",
    "        \"model\": dummy.DummyRegressor()\n",
    "    },\n",
    "    {\n",
    "        \"name\": \"SVR RBF\",\n",
    "        \"model\": svm.SVR()\n",
    "    }\n",
    "]"
   ]
  },
  {
   "cell_type": "markdown",
   "metadata": {},
   "source": [
    "## Initializing patients"
   ]
  },
  {
   "cell_type": "code",
   "execution_count": 14,
   "metadata": {
    "ExecuteTime": {
     "end_time": "2018-07-03T07:47:02.877334Z",
     "start_time": "2018-07-03T07:45:42.003989Z"
    },
    "collapsed": true
   },
   "outputs": [],
   "source": [
    "proper_patients = get_proper_patients()"
   ]
  },
  {
   "cell_type": "code",
   "execution_count": 15,
   "metadata": {
    "ExecuteTime": {
     "end_time": "2018-07-03T07:47:21.822845Z",
     "start_time": "2018-07-03T07:47:02.929722Z"
    },
    "collapsed": true
   },
   "outputs": [],
   "source": [
    "module_patients = read_module_data()"
   ]
  },
  {
   "cell_type": "code",
   "execution_count": null,
   "metadata": {
    "ExecuteTime": {
     "end_time": "2018-07-02T14:55:04.682443Z",
     "start_time": "2018-07-02T14:55:03.910405Z"
    },
    "collapsed": true
   },
   "outputs": [],
   "source": [
    "ema_patients = read_EMA_code()"
   ]
  },
  {
   "cell_type": "markdown",
   "metadata": {
    "ExecuteTime": {
     "end_time": "2018-06-24T23:37:41.112651Z",
     "start_time": "2018-06-24T23:37:21.959736Z"
    }
   },
   "source": [
    "# Methodology"
   ]
  },
  {
   "cell_type": "markdown",
   "metadata": {},
   "source": [
    "### Retrieving the working patients"
   ]
  },
  {
   "cell_type": "code",
   "execution_count": null,
   "metadata": {
    "ExecuteTime": {
     "end_time": "2018-07-02T15:08:12.260311Z",
     "start_time": "2018-07-02T15:08:06.379077Z"
    },
    "collapsed": true
   },
   "outputs": [],
   "source": [
    "ids = module_patients['ECD_ID'].unique().tolist()\n",
    "\n",
    "results_freq = []\n",
    "\n",
    "for id in ids:\n",
    "    considered_df = init_patient(module_patients, id)\n",
    "    daily_df = considered_df.resample('1d').count()\n",
    "    daily_df = daily_df.drop(daily_df[daily_df['ECD_ID'] == 0].index)\n",
    "    results_freq.append((id, len(daily_df)))\n",
    "# ema_patients.groupby('ECD_ID').count().sort_values(by='xEmaSchedule', ascending=False)"
   ]
  },
  {
   "cell_type": "code",
   "execution_count": null,
   "metadata": {
    "ExecuteTime": {
     "end_time": "2018-07-02T15:19:07.054414Z",
     "start_time": "2018-07-02T15:19:02.426709Z"
    },
    "collapsed": true
   },
   "outputs": [],
   "source": [
    "ema_ids = ema_patients['ECD_ID'].unique().tolist()\n",
    "\n",
    "EMA_results_freq = []\n",
    "\n",
    "for id in ema_ids:\n",
    "    considered_EMA_df = init_EMA_patient(ema_patients, id)\n",
    "    daily_EMA_df = considered_EMA_df.resample('1d').count()\n",
    "    daily_EMA_df = daily_EMA_df.drop(daily_EMA_df[daily_EMA_df['xEmaSchedule'] == 0].index)\n",
    "    EMA_results_freq.append(len(daily_EMA_df))"
   ]
  },
  {
   "cell_type": "code",
   "execution_count": null,
   "metadata": {
    "ExecuteTime": {
     "end_time": "2018-07-02T15:14:42.157457Z",
     "start_time": "2018-07-02T15:14:42.077841Z"
    },
    "collapsed": true
   },
   "outputs": [],
   "source": [
    "results_freq_only_mod = [i[1] for i in results_freq]"
   ]
  },
  {
   "cell_type": "code",
   "execution_count": null,
   "metadata": {
    "ExecuteTime": {
     "end_time": "2018-07-02T18:21:20.640565Z",
     "start_time": "2018-07-02T18:21:19.744560Z"
    }
   },
   "outputs": [],
   "source": [
    "bins = np.arange(0, 300, 25)\n",
    "inds = np.digitize(results_freq_only_mod, bins)\n",
    "plt.hist(results_freq_only_mod, bins)\n",
    "plt.title('Day counts for patient module usage')\n",
    "plt.ylabel('Frequency')\n",
    "plt.xlabel('Days logged')\n",
    "plt.savefig('Mod_count')\n",
    "# results_freq_only_mod"
   ]
  },
  {
   "cell_type": "code",
   "execution_count": null,
   "metadata": {
    "ExecuteTime": {
     "end_time": "2018-07-02T18:21:02.648348Z",
     "start_time": "2018-07-02T18:21:00.647324Z"
    }
   },
   "outputs": [],
   "source": [
    "import seaborn as sns\n",
    "# EMA_test = EMA_results_freq[:10]\n",
    "\n",
    "EMA_bins = np.arange(0, 300, 25)\n",
    "# EMA_inds = np.digitize(EMA_test, EMA_bins)\n",
    "# EMA_results_freq\n",
    "\n",
    "# np.sort(EMA_results_freq[])\n",
    "\n",
    "# check_EMA = np.sort(EMA_results_freq[:5])\n",
    "# hist, bins = np.histogram(check_EMA)\n",
    "EMA_test2 = np.sort(EMA_results_freq)\n",
    "\n",
    "plt.hist(np.array(EMA_test2[:-5]), EMA_bins, color='skyblue')\n",
    "plt.title('Day counts for patient EMA usage')\n",
    "plt.ylabel('Frequency')\n",
    "plt.xlabel('Days logged')\n",
    "plt.savefig('EMA_count')"
   ]
  },
  {
   "cell_type": "markdown",
   "metadata": {},
   "source": [
    "## Condition A: Per-patient"
   ]
  },
  {
   "cell_type": "code",
   "execution_count": null,
   "metadata": {
    "ExecuteTime": {
     "end_time": "2018-07-02T22:59:43.629762Z",
     "start_time": "2018-07-02T22:54:24.008460Z"
    }
   },
   "outputs": [],
   "source": [
    "patients_features = [get_features_for_patient(patient['patient_id']) for patient in proper_patients]"
   ]
  },
  {
   "cell_type": "code",
   "execution_count": null,
   "metadata": {
    "ExecuteTime": {
     "end_time": "2018-07-02T22:50:27.252916Z",
     "start_time": "2018-07-02T22:28:43.681Z"
    },
    "collapsed": true
   },
   "outputs": [],
   "source": [
    "make_models = [make_algorithms(ml_algorithms, patient[0], patient[1]) for patient in patients_features]"
   ]
  },
  {
   "cell_type": "markdown",
   "metadata": {},
   "source": [
    "## Condition B: Population-based"
   ]
  },
  {
   "cell_type": "markdown",
   "metadata": {
    "ExecuteTime": {
     "end_time": "2018-07-01T15:09:33.856854Z",
     "start_time": "2018-07-01T14:35:20.902Z"
    }
   },
   "source": [
    "### Gathering all patients"
   ]
  },
  {
   "cell_type": "code",
   "execution_count": null,
   "metadata": {
    "ExecuteTime": {
     "end_time": "2018-07-02T23:03:30.436013Z",
     "start_time": "2018-07-02T23:00:43.946559Z"
    },
    "collapsed": true
   },
   "outputs": [],
   "source": [
    "patients_performances = [get_features_for_patient(patient['patient_id']) for patient in sample_patients]"
   ]
  },
  {
   "cell_type": "markdown",
   "metadata": {},
   "source": [
    "### Adding all dataframes together"
   ]
  },
  {
   "cell_type": "code",
   "execution_count": null,
   "metadata": {
    "ExecuteTime": {
     "end_time": "2018-07-03T07:45:28.426950Z",
     "start_time": "2018-07-03T07:45:28.341134Z"
    }
   },
   "outputs": [],
   "source": [
    "patient_ids = [patient['patient_id'] for patient in sample_patients]\n",
    "patients_features = [feature_set[0] for feature_set in patients_performances]\n",
    "patients_targets = [feature_set[1] for feature_set in patients_performances]\n",
    "\n",
    "patients_features[1]\n",
    "\n",
    "for i, (j,k) in enumerate(zip(patients_features, patient_ids)):\n",
    "    patients_features[i]['patient_id'] = patient_ids[i]"
   ]
  },
  {
   "cell_type": "code",
   "execution_count": null,
   "metadata": {
    "ExecuteTime": {
     "end_time": "2018-07-02T23:03:40.280247Z",
     "start_time": "2018-07-02T23:03:40.065449Z"
    },
    "collapsed": true
   },
   "outputs": [],
   "source": [
    "patients_performances_combined = reduce(lambda x,y: x.append(y), patients_features)\n",
    "patients_targets_combined = reduce(lambda x,y: x.append(y), patients_targets)"
   ]
  },
  {
   "cell_type": "code",
   "execution_count": null,
   "metadata": {
    "ExecuteTime": {
     "end_time": "2018-07-02T23:03:41.915273Z",
     "start_time": "2018-07-02T23:03:41.647692Z"
    }
   },
   "outputs": [],
   "source": [
    "patients_performances_combined = patients_performances_combined.drop('test', axis=1)"
   ]
  },
  {
   "cell_type": "code",
   "execution_count": null,
   "metadata": {
    "ExecuteTime": {
     "end_time": "2018-07-02T23:41:07.685485Z",
     "start_time": "2018-07-02T23:41:07.381183Z"
    },
    "collapsed": true
   },
   "outputs": [],
   "source": [
    "ridgeTest = linear_model.RidgeCV(alphas=RIDGE_ALPHAS)\n",
    "split_index = int(len(patients_performances_combined) * 0.66)\n",
    "\n",
    "patients_performance_combined_two = patients_performances_combined.drop('prior_engagement')\n",
    "\n",
    "# patients_performance_combined_two\n",
    "\n",
    "ridgeTest.fit(patients_performance_combined_two, patients_targets_combined)\n",
    "\n",
    "patients_total = patients_performances_combined.join(patients_targets_combined)\n",
    "sample_patient_x = patients_total[patients_total['patient_id'] == '102066']\n",
    "sample_patient_x = sample_patient_x.drop('prior_engagement', axis=1)\n",
    "sample_patient_y = patients_total[patients_total['patient_id'] == '102066']['prior_engagement']"
   ]
  },
  {
   "cell_type": "code",
   "execution_count": null,
   "metadata": {
    "ExecuteTime": {
     "end_time": "2018-07-02T23:43:25.840858Z",
     "start_time": "2018-07-02T23:43:25.620978Z"
    }
   },
   "outputs": [],
   "source": [
    "# sample_patient_x = sample_patient_x.drop('prior_engagement', axis=1)\n",
    "# sample_patient_x\n",
    "# _, _, test_x, test_y = split_dataset(sample_patient_x, sample_patient_y, split_index)\n",
    "\n",
    "prediction = ridgeTest.predict(sample_patient_x)\n",
    "sample_patient_y\n",
    "\n",
    "metrics.mean_absolute_error(prediction, sample_patient_y)\n",
    "\n",
    "# trained_models = train_algorithms([{'model':ridgeTest, 'name': 'Ridge'}], patients_performances_combined, patients_targets_combined)\n",
    "# tested_models = test_algorithms(trained_models, test_x)\n",
    "# evaled_models = eval_algorithms(trained_models, test_y)\n",
    "# eval_algorithm(ridgeTest, test_y)"
   ]
  },
  {
   "cell_type": "code",
   "execution_count": null,
   "metadata": {
    "ExecuteTime": {
     "end_time": "2018-07-03T07:44:29.646631Z",
     "start_time": "2018-07-03T07:44:29.570644Z"
    }
   },
   "outputs": [],
   "source": [
    "ridgeTest2 = RidgeCV(alphas=RIDGE_ALPHAS)"
   ]
  },
  {
   "cell_type": "code",
   "execution_count": null,
   "metadata": {
    "ExecuteTime": {
     "end_time": "2018-07-03T07:44:35.400325Z",
     "start_time": "2018-07-03T07:44:35.334522Z"
    }
   },
   "outputs": [],
   "source": [
    "patient_x = pati"
   ]
  },
  {
   "cell_type": "markdown",
   "metadata": {
    "heading_collapsed": true
   },
   "source": [
    "## Feature Selection"
   ]
  },
  {
   "cell_type": "code",
   "execution_count": null,
   "metadata": {
    "ExecuteTime": {
     "start_time": "2018-07-02T07:56:50.811Z"
    },
    "hidden": true
   },
   "outputs": [],
   "source": [
    "top_features, performances = create_patient_features(proper_patients[1:4], ml_algorithms, max_features=20)\n",
    "# top_features\n",
    "\n",
    "# plt.plot([1,2,3], [2.3, 4.6, 6.7])"
   ]
  },
  {
   "cell_type": "code",
   "execution_count": null,
   "metadata": {
    "ExecuteTime": {
     "end_time": "2018-07-02T00:37:18.673736Z",
     "start_time": "2018-07-02T00:37:17.622063Z"
    },
    "hidden": true
   },
   "outputs": [],
   "source": [
    "plt.plot(a,b)"
   ]
  },
  {
   "cell_type": "markdown",
   "metadata": {
    "ExecuteTime": {
     "end_time": "2018-06-28T09:04:35.304990Z",
     "start_time": "2018-06-28T09:04:35.186548Z"
    },
    "collapsed": true
   },
   "source": [
    "## Evaluation"
   ]
  },
  {
   "cell_type": "code",
   "execution_count": null,
   "metadata": {
    "ExecuteTime": {
     "end_time": "2018-06-28T09:15:38.076208Z",
     "start_time": "2018-06-28T09:04:35.436113Z"
    }
   },
   "outputs": [],
   "source": []
  },
  {
   "cell_type": "code",
   "execution_count": 22,
   "metadata": {
    "ExecuteTime": {
     "end_time": "2018-07-03T08:06:51.107457Z",
     "start_time": "2018-07-03T08:06:50.788217Z"
    }
   },
   "outputs": [
    {
     "data": {
      "image/png": "[encoded data removed]",
      "text/plain": [
       "<matplotlib.figure.Figure at 0x10c0213c8>"
      ]
     },
     "metadata": {},
     "output_type": "display_data"
    }
   ],
   "source": [
    "import seaborn as sns\n",
    "def plot_performance(performance_tuple, patient_id='', title_subject='Top Performance top-features avg 15 patients'):\n",
    "    x = [i for i in performance_tuple[0]]\n",
    "    y = [i for i in performance_tuple[1]]\n",
    "    plt.title(title_subject)\n",
    "    plt.xlabel('nr_features')\n",
    "    plt.ylabel('MAE')\n",
    "    plt.plot(x,y)\n",
    "    plt.savefig('feature_performances_'+patient_id)\n",
    "performances = load_patient_object('102318', prefix='fs').tolist()['performances']\n",
    "\n",
    "plot_performance(performances, '102318')"
   ]
  },
  {
   "cell_type": "markdown",
   "metadata": {
    "ExecuteTime": {
     "end_time": "2018-06-28T08:18:44.672050Z",
     "start_time": "2018-06-28T08:18:44.625501Z"
    },
    "heading_collapsed": true
   },
   "source": [
    "### Convert the performance results to one DataFrame"
   ]
  },
  {
   "cell_type": "code",
   "execution_count": null,
   "metadata": {
    "ExecuteTime": {
     "end_time": "2018-06-28T13:21:43.419315Z",
     "start_time": "2018-06-28T13:21:42.798682Z"
    },
    "collapsed": true,
    "hidden": true
   },
   "outputs": [],
   "source": [
    "topf_avg_performance = calc_avg_performance_from_models(ml_algorithms, end_results[0])\n",
    "fcorrelation_avg_performance = calc_avg_performance_from_models(ml_algorithms, end_results[1])\n",
    "allf_avg_performance = calc_avg_performance_from_models(ml_algorithms, end_results[2])\n",
    "topf_df = pd.DataFrame(topf_avg_performance)\n",
    "topf_df['feature_setup'] = pd.Series(['top_features' for i in range(1, len(topf_avg_performance) + 1)])\n",
    "\n",
    "allf_df = pd.DataFrame(allf_avg_performance)\n",
    "allf_df['feature_setup'] = pd.Series(['all_features' for i in range(1, len(allf_avg_performance) + 1)])\n",
    "allf_df\n",
    "\n",
    "corrf_df = pd.DataFrame(fcorrelation_avg_performance)\n",
    "corrf_df['feature_setup'] = pd.Series(['corr_features' for i in range(1, len(fcorrelation_avg_performance) + 1)])\n",
    "\n",
    "grouped_performances = topf_df.append(allf_df).append(corrf_df)\n",
    "groupby_statement = grouped_performances.groupby('feature_setup').mean()\n",
    "groupby_statement"
   ]
  }
 ],
 "metadata": {
  "kernelspec": {
   "display_name": "Python 3",
   "language": "python",
   "name": "python3"
  },
  "language_info": {
   "codemirror_mode": {
    "name": "ipython",
    "version": 3
   },
   "file_extension": ".py",
   "mimetype": "text/x-python",
   "name": "python",
   "nbconvert_exporter": "python",
   "pygments_lexer": "ipython3",
   "version": "3.6.3"
  },
  "varInspector": {
   "cols": {
    "lenName": 16,
    "lenType": 16,
    "lenVar": 40
   },
   "kernels_config": {
    "python": {
     "delete_cmd_postfix": "",
     "delete_cmd_prefix": "del ",
     "library": "var_list.py",
     "varRefreshCmd": "print(var_dic_list())"
    },
    "r": {
     "delete_cmd_postfix": ") ",
     "delete_cmd_prefix": "rm(",
     "library": "var_list.r",
     "varRefreshCmd": "cat(var_dic_list()) "
    }
   },
   "oldHeight": 565,
   "position": {
    "height": "587px",
    "left": "1399px",
    "right": "20px",
    "top": "125px",
    "width": "326px"
   },
   "types_to_exclude": [
    "module",
    "function",
    "builtin_function_or_method",
    "instance",
    "_Feature"
   ],
   "varInspector_section_display": "block",
   "window_display": false
  }
 },
 "nbformat": 4,
 "nbformat_minor": 2
}
