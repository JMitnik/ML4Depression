{
 "cells": [
  {
   "cell_type": "markdown",
   "metadata": {},
   "source": [
    "## Importing the associated modules"
   ]
  },
  {
   "cell_type": "code",
   "execution_count": 45,
   "metadata": {
    "ExecuteTime": {
     "end_time": "2018-06-27T12:36:52.830043Z",
     "start_time": "2018-06-27T12:36:52.733479Z"
    }
   },
   "outputs": [
    {
     "name": "stdout",
     "output_type": "stream",
     "text": [
      "The autoreload extension is already loaded. To reload it, use:\n",
      "  %reload_ext autoreload\n"
     ]
    }
   ],
   "source": [
    "%load_ext autoreload\n",
    "%autoreload 2\n",
    "\n",
    "import pandas as pd\n",
    "import numpy as np\n",
    "import matplotlib as plot\n",
    "import sklearn as sk\n",
    "from sklearn import metrics, linear_model, ensemble, neural_network, svm, dummy\n",
    "from helpers import *\n",
    "\n",
    "# Importing the different features\n",
    "from ema_features import get_EMA_features_and_target_for_patient\n",
    "from module_features import get_module_features_for_patient\n",
    "from context_features import get_weekend_days\n",
    "\n",
    "# Importing the machine learning module\n",
    "from predicting import train_algorithms, test_algorithms, eval_algorithms, plot_algorithms, make_algorithms\n",
    "from feature_selection import backward_selection, forward_selection, correlate_features, precalculated_feature_selection\n",
    "\n",
    "# Importing multiple patient wrapper\n",
    "from individual_wrappers import *"
   ]
  },
  {
   "cell_type": "markdown",
   "metadata": {},
   "source": [
    "## Initializing constants"
   ]
  },
  {
   "cell_type": "code",
   "execution_count": 2,
   "metadata": {
    "ExecuteTime": {
     "end_time": "2018-06-27T09:11:33.730462Z",
     "start_time": "2018-06-27T09:11:33.680161Z"
    },
    "collapsed": true
   },
   "outputs": [],
   "source": [
    "SLIDING_WINDOW = 7\n",
    "CV_ALPHAS = (0.1, 0.3, 0.5, 0.7, 0.9)\n",
    "MAX_PATIENTS = 10\n",
    "FEATURE_PATH = \"data/features/\""
   ]
  },
  {
   "cell_type": "markdown",
   "metadata": {},
   "source": [
    "## Defining our Machine Learning Algorithms"
   ]
  },
  {
   "cell_type": "code",
   "execution_count": 3,
   "metadata": {
    "ExecuteTime": {
     "end_time": "2018-06-27T09:11:33.784218Z",
     "start_time": "2018-06-27T09:11:33.733131Z"
    },
    "collapsed": true
   },
   "outputs": [],
   "source": [
    "ml_algorithms = [\n",
    "    {\n",
    "        \"name\": \"Lasso\",\n",
    "        \"model\": linear_model.LassoCV(alphas=CV_ALPHAS)\n",
    "    },\n",
    "    {\n",
    "        \"name\": \"Ridge\",\n",
    "        \"model\": linear_model.RidgeCV(alphas=CV_ALPHAS)\n",
    "    },\n",
    "    {\n",
    "        \"name\": \"Random Forest\",\n",
    "        \"model\": ensemble.RandomForestRegressor(n_estimators=1000, max_depth=2)\n",
    "    },\n",
    "    {\n",
    "        \"name\": \"Dummy Mean Regressor\",\n",
    "        \"model\": dummy.DummyRegressor()\n",
    "    },\n",
    "    {\n",
    "        \"name\": \"SVR RBF\",\n",
    "        \"model\": svm.SVR()\n",
    "    }\n",
    "]"
   ]
  },
  {
   "cell_type": "markdown",
   "metadata": {},
   "source": [
    "## Initializing patients"
   ]
  },
  {
   "cell_type": "code",
   "execution_count": 4,
   "metadata": {
    "ExecuteTime": {
     "end_time": "2018-06-27T09:12:49.528304Z",
     "start_time": "2018-06-27T09:11:33.787928Z"
    },
    "collapsed": true
   },
   "outputs": [],
   "source": [
    "proper_patients = get_proper_patients(MAX_PATIENTS)"
   ]
  },
  {
   "cell_type": "markdown",
   "metadata": {
    "ExecuteTime": {
     "end_time": "2018-06-24T23:37:41.112651Z",
     "start_time": "2018-06-24T23:37:21.959736Z"
    }
   },
   "source": [
    "## Init-Step: Getting Features of the patients"
   ]
  },
  {
   "cell_type": "code",
   "execution_count": 8,
   "metadata": {
    "ExecuteTime": {
     "end_time": "2018-06-27T12:09:31.593591Z",
     "start_time": "2018-06-27T12:09:31.493849Z"
    }
   },
   "outputs": [],
   "source": [
    "sample_patient = proper_patients[1:6]\n",
    "\n",
    "# sample_scores = get_patients_scores_and_features(sample_patient, ml_algorithms, 20)"
   ]
  },
  {
   "cell_type": "code",
   "execution_count": 20,
   "metadata": {
    "ExecuteTime": {
     "end_time": "2018-06-27T12:17:48.763869Z",
     "start_time": "2018-06-27T12:17:48.403148Z"
    }
   },
   "outputs": [],
   "source": [
    "# sample_patient\n",
    "sample_scores = load_patients_object(sample_patient, '_top5_featureselection_')"
   ]
  },
  {
   "cell_type": "code",
   "execution_count": 29,
   "metadata": {
    "ExecuteTime": {
     "end_time": "2018-06-27T12:18:50.802563Z",
     "start_time": "2018-06-27T12:18:50.729785Z"
    }
   },
   "outputs": [
    {
     "data": {
      "text/plain": [
       "['avg_average_ema_q_3_7_days',\n",
       " 'std_prior_engagement_7_days',\n",
       " 'max_mod_total_pages_7_days',\n",
       " 'avg_average_ema_q_2_7_days',\n",
       " 'avg_mod_total_time_7_days',\n",
       " 'std_mod_total_time_7_days',\n",
       " 'max_mod_total_time_7_days',\n",
       " 'min_count_ema_q_4_7_days',\n",
       " 'avg_mod_total_pages_7_days',\n",
       " 'min_average_ema_q_2_7_days',\n",
       " 'max_average_ema_q_3_7_days',\n",
       " 'avg_mod_nr_sessions_7_days',\n",
       " 'std_average_ema_q_5_7_days',\n",
       " 'weekendDay',\n",
       " 'min_average_ema_q_3_7_days',\n",
       " 'max_count_ema_q_2_7_days',\n",
       " 'std_count_ema_q_1_7_days',\n",
       " 'avg_average_ema_q_5_7_days',\n",
       " 'max_prior_engagement_7_days',\n",
       " 'std_count_ema_q_6_7_days']"
      ]
     },
     "execution_count": 29,
     "metadata": {},
     "output_type": "execute_result"
    }
   ],
   "source": [
    "# sample_scores[0]['top_features']"
   ]
  },
  {
   "cell_type": "code",
   "execution_count": 111,
   "metadata": {
    "ExecuteTime": {
     "end_time": "2018-06-27T14:33:44.952921Z",
     "start_time": "2018-06-27T14:22:37.292684Z"
    }
   },
   "outputs": [
    {
     "name": "stderr",
     "output_type": "stream",
     "text": [
      "/Users/jonathanmitnik/anaconda3/lib/python3.6/site-packages/sklearn/linear_model/coordinate_descent.py:491: ConvergenceWarning: Objective did not converge. You might want to increase the number of iterations. Fitting data with very small alpha may cause precision problems.\n",
      "  ConvergenceWarning)\n",
      "/Users/jonathanmitnik/anaconda3/lib/python3.6/site-packages/sklearn/linear_model/coordinate_descent.py:491: ConvergenceWarning: Objective did not converge. You might want to increase the number of iterations. Fitting data with very small alpha may cause precision problems.\n",
      "  ConvergenceWarning)\n",
      "/Users/jonathanmitnik/anaconda3/lib/python3.6/site-packages/sklearn/linear_model/coordinate_descent.py:491: ConvergenceWarning: Objective did not converge. You might want to increase the number of iterations. Fitting data with very small alpha may cause precision problems.\n",
      "  ConvergenceWarning)\n",
      "/Users/jonathanmitnik/anaconda3/lib/python3.6/site-packages/sklearn/linear_model/coordinate_descent.py:491: ConvergenceWarning: Objective did not converge. You might want to increase the number of iterations. Fitting data with very small alpha may cause precision problems.\n",
      "  ConvergenceWarning)\n",
      "/Users/jonathanmitnik/anaconda3/lib/python3.6/site-packages/sklearn/linear_model/coordinate_descent.py:491: ConvergenceWarning: Objective did not converge. You might want to increase the number of iterations. Fitting data with very small alpha may cause precision problems.\n",
      "  ConvergenceWarning)\n"
     ]
    }
   ],
   "source": [
    "end_results = learn_patients_setups(sample_scores, ml_algorithms, max_features=20)"
   ]
  },
  {
   "cell_type": "code",
   "execution_count": 115,
   "metadata": {
    "ExecuteTime": {
     "end_time": "2018-06-27T20:27:36.033808Z",
     "start_time": "2018-06-27T20:27:34.511760Z"
    }
   },
   "outputs": [
    {
     "data": {
      "text/plain": [
       "2.3157797341587703"
      ]
     },
     "execution_count": 115,
     "metadata": {},
     "output_type": "execute_result"
    }
   ],
   "source": [
    "get_patients_mean_MAE_score(end_results[0])"
   ]
  },
  {
   "cell_type": "code",
   "execution_count": 116,
   "metadata": {
    "ExecuteTime": {
     "end_time": "2018-06-27T20:27:37.726161Z",
     "start_time": "2018-06-27T20:27:37.601613Z"
    }
   },
   "outputs": [
    {
     "data": {
      "text/plain": [
       "2.4262548123130991"
      ]
     },
     "execution_count": 116,
     "metadata": {},
     "output_type": "execute_result"
    }
   ],
   "source": [
    "get_patients_mean_MAE_score(end_results[1])"
   ]
  },
  {
   "cell_type": "code",
   "execution_count": 117,
   "metadata": {
    "ExecuteTime": {
     "end_time": "2018-06-27T20:27:41.570061Z",
     "start_time": "2018-06-27T20:27:41.476521Z"
    }
   },
   "outputs": [
    {
     "data": {
      "text/plain": [
       "2.347204656122031"
      ]
     },
     "execution_count": 117,
     "metadata": {},
     "output_type": "execute_result"
    }
   ],
   "source": [
    "get_patients_mean_MAE_score(end_results[2])"
   ]
  },
  {
   "cell_type": "code",
   "execution_count": 85,
   "metadata": {
    "ExecuteTime": {
     "end_time": "2018-06-27T14:10:09.467441Z",
     "start_time": "2018-06-27T14:10:09.379437Z"
    }
   },
   "outputs": [
    {
     "data": {
      "text/plain": [
       "array({'patient_id': '800005', 'pearson_correlated_features': (['max_average_ema_q_2_7_days', 'std_average_ema_q_2_7_days', 'avg_average_ema_q_3_7_days', 'avg_average_ema_q_4_7_days', 'avg_average_ema_q_2_7_days', 'avg_count_ema_q_3_7_days', 'avg_count_ema_q_4_7_days', 'avg_count_ema_q_5_7_days', 'avg_count_ema_q_7_7_days', 'avg_count_ema_q_6_7_days', 'avg_prior_engagement_7_days', 'avg_average_ema_q_7_7_days', 'avg_average_ema_q_5_7_days', 'avg_average_ema_q_6_7_days', 'avg_count_ema_q_1_7_days', 'avg_average_ema_q_1_7_days', 'max_mod_nr_sessions_7_days', 'max_mod_total_pages_7_days', 'std_mod_nr_sessions_7_days', 'std_mod_total_pages_7_days'], [('avg_average_ema_q_3_7_days', 0.43236881354859064), ('avg_average_ema_q_4_7_days', 0.41824607805789676), ('avg_count_ema_q_3_7_days', 0.41558938215021424), ('avg_count_ema_q_4_7_days', 0.40237054667133393), ('avg_count_ema_q_5_7_days', 0.4014495026435872), ('avg_count_ema_q_7_7_days', 0.39923853779194346), ('avg_count_ema_q_6_7_days', 0.39767052745381604), ('avg_prior_engagement_7_days', 0.38032729942177007), ('avg_average_ema_q_7_7_days', 0.37378754176618162), ('avg_average_ema_q_5_7_days', 0.37187685467000969), ('avg_average_ema_q_6_7_days', 0.36128764286328013), ('avg_count_ema_q_1_7_days', 0.33615134330749291), ('avg_average_ema_q_1_7_days', 0.31939936711316236), ('std_count_ema_q_7_7_days', 0.23640009845418766), ('min_count_ema_q_3_7_days', 0.22820201107706459), ('std_average_ema_q_7_7_days', 0.22632534309749541), ('min_average_ema_q_3_7_days', 0.21429463478232968), ('max_average_ema_q_3_7_days', 0.21329721230074936), ('max_average_ema_q_7_7_days', 0.20968025296382486), ('max_count_ema_q_7_7_days', 0.20421384792990446), ('avg_count_ema_q_2_7_days', 0.19629363760089399), ('std_count_ema_q_1_7_days', 0.18585622483651107), ('min_count_ema_q_4_7_days', 0.182526553850795), ('std_average_ema_q_1_7_days', 0.18188501493873749), ('min_average_ema_q_4_7_days', 0.1818072174908934), ('max_average_ema_q_1_7_days', 0.16823587314514726), ('std_count_ema_q_2_7_days', 0.15760981342922883), ('max_count_ema_q_3_7_days', 0.15451119100925137), ('min_prior_engagement_7_days', 0.14725014574587725), ('weekendDay', 0.13426201709302329), ('max_average_ema_q_5_7_days', 0.13119295637749126), ('min_count_ema_q_5_7_days', 0.11618827664767339), ('min_count_ema_q_6_7_days', 0.11618827664767339), ('max_average_ema_q_6_7_days', 0.1159549477260636), ('min_average_ema_q_5_7_days', 0.10645681111209911), ('min_average_ema_q_6_7_days', 0.10143332194529851), ('max_count_ema_q_4_7_days', 0.10136798042298015), ('max_average_ema_q_4_7_days', 0.089540702864662688), ('std_average_ema_q_6_7_days', 0.087094098627421498), ('std_average_ema_q_5_7_days', 0.085423237891319739), ('max_count_ema_q_5_7_days', 0.082361975471246088), ('max_count_ema_q_6_7_days', 0.082361975471246088), ('std_average_ema_q_3_7_days', 0.077411989273146145), ('max_count_ema_q_1_7_days', 0.065711277084374534), ('min_count_ema_q_1_7_days', 0.059447687100509419), ('min_average_ema_q_1_7_days', 0.059447687100509405), ('std_count_ema_q_6_7_days', 0.055316196145432782), ('std_count_ema_q_5_7_days', 0.05262899656327942), ('max_count_ema_q_2_7_days', 0.037125902777856844), ('std_count_ema_q_3_7_days', 0.035727161279150266), ('min_count_ema_q_2_7_days', 0.018016445742394433), ('min_count_ema_q_7_7_days', 0.011673417721334641), ('max_prior_engagement_7_days', 0.010774744624186972), ('min_average_ema_q_7_7_days', -0.0030867175690108338), ('std_count_ema_q_4_7_days', -0.0034978861492155986), ('min_average_ema_q_2_7_days', -0.037454892645006038), ('std_prior_engagement_7_days', -0.042587128159138808), ('std_average_ema_q_4_7_days', -0.10962760551222946), ('avg_mod_total_time_7_days', -0.13258848130655884), ('max_mod_total_time_7_days', -0.13381535372863382), ('std_mod_total_time_7_days', -0.13398665941192187), ('avg_mod_total_pages_7_days', -0.24091493278850823), ('avg_mod_nr_sessions_7_days', -0.24192939483217812), ('std_mod_total_pages_7_days', -0.25800983208158401), ('std_mod_nr_sessions_7_days', -0.25873359268658741), ('max_mod_total_pages_7_days', -0.26045357915034856), ('max_mod_nr_sessions_7_days', -0.26328071998448294), ('avg_average_ema_q_2_7_days', -0.41577571287491294), ('std_average_ema_q_2_7_days', -0.43889190158624086), ('max_average_ema_q_2_7_days', -0.44726149743752169)]), 'top_features': ['max_average_ema_q_2_7_days', 'weekendDay', 'max_average_ema_q_1_7_days', 'min_average_ema_q_2_7_days', 'std_mod_total_time_7_days', 'max_prior_engagement_7_days', 'max_mod_total_pages_7_days', 'std_average_ema_q_1_7_days', 'avg_mod_total_pages_7_days', 'std_mod_total_pages_7_days', 'max_count_ema_q_1_7_days', 'max_mod_nr_sessions_7_days', 'std_count_ema_q_6_7_days', 'avg_average_ema_q_4_7_days', 'min_mod_nr_sessions_7_days', 'avg_average_ema_q_3_7_days', 'min_count_ema_q_7_7_days', 'max_count_ema_q_6_7_days', 'std_average_ema_q_3_7_days', 'avg_average_ema_q_7_7_days']}, dtype=object)"
      ]
     },
     "execution_count": 85,
     "metadata": {},
     "output_type": "execute_result"
    }
   ],
   "source": [
    "load_patient_object('800005', '_top5_featureselection_')"
   ]
  },
  {
   "cell_type": "code",
   "execution_count": 13,
   "metadata": {
    "ExecuteTime": {
     "end_time": "2018-06-27T06:57:01.440365Z",
     "start_time": "2018-06-27T06:57:01.388469Z"
    }
   },
   "outputs": [
    {
     "data": {
      "text/plain": [
       "array({'patient_id': '102066', 'pearson_correlated_features': (['avg_average_ema_q_3_7_days', 'avg_count_ema_q_4_7_days', 'avg_prior_engagement_7_days', 'avg_count_ema_q_3_7_days', 'avg_count_ema_q_7_7_days', 'avg_count_ema_q_5_7_days', 'avg_count_ema_q_6_7_days', 'avg_average_ema_q_4_7_days', 'avg_count_ema_q_1_7_days', 'avg_average_ema_q_7_7_days', 'avg_average_ema_q_5_7_days', 'avg_average_ema_q_1_7_days', 'std_count_ema_q_1_7_days', 'avg_average_ema_q_6_7_days', 'max_average_ema_q_3_7_days', 'std_average_ema_q_2_7_days', 'std_average_ema_q_1_7_days', 'max_average_ema_q_2_7_days', 'max_count_ema_q_4_7_days', 'max_count_ema_q_3_7_days'], [('avg_average_ema_q_3_7_days', 0.42338790457125247), ('avg_count_ema_q_4_7_days', 0.42120187016615135), ('avg_prior_engagement_7_days', 0.42103477289876234), ('avg_count_ema_q_3_7_days', 0.41936879136045457), ('avg_count_ema_q_7_7_days', 0.41580217951290915), ('avg_count_ema_q_5_7_days', 0.39789289802679201), ('avg_count_ema_q_6_7_days', 0.39480167809622335), ('avg_average_ema_q_4_7_days', 0.38773534408727717), ('avg_count_ema_q_1_7_days', 0.36150021719139813), ('avg_average_ema_q_7_7_days', 0.33380628907050997), ('avg_average_ema_q_5_7_days', 0.32916262848258404), ('avg_average_ema_q_1_7_days', 0.32463176167015617), ('std_count_ema_q_1_7_days', 0.30453465199398333), ('avg_average_ema_q_6_7_days', 0.29860880806419471), ('max_average_ema_q_3_7_days', 0.27547660589975759), ('std_average_ema_q_1_7_days', 0.24531906702145284), ('max_count_ema_q_4_7_days', 0.23715335819116276), ('max_count_ema_q_3_7_days', 0.23454158749849868), ('avg_count_ema_q_2_7_days', 0.22948522866667193), ('std_count_ema_q_7_7_days', 0.22703544548894039), ('min_count_ema_q_3_7_days', 0.22378818419186), ('max_average_ema_q_1_7_days', 0.22299458510528983), ('min_average_ema_q_3_7_days', 0.21483093120255006), ('max_count_ema_q_1_7_days', 0.21302224000643866), ('std_count_ema_q_5_7_days', 0.20889490871727032), ('max_average_ema_q_5_7_days', 0.1967624863295061), ('std_count_ema_q_4_7_days', 0.17316954889476407), ('min_prior_engagement_7_days', 0.17131240630951755), ('std_average_ema_q_5_7_days', 0.17045900035545877), ('max_average_ema_q_4_7_days', 0.1641584362584397), ('std_count_ema_q_6_7_days', 0.16400253703204518), ('max_count_ema_q_7_7_days', 0.15930627601731878), ('min_average_ema_q_4_7_days', 0.14313048428032829), ('min_count_ema_q_4_7_days', 0.13852973138775143), ('std_average_ema_q_3_7_days', 0.13508249963056138), ('max_average_ema_q_7_7_days', 0.13016423226951282), ('max_count_ema_q_5_7_days', 0.12880168835490755), ('std_count_ema_q_3_7_days', 0.12677683817306698), ('min_count_ema_q_2_7_days', 0.11897109213661217), ('std_average_ema_q_7_7_days', 0.11275644518124241), ('max_count_ema_q_2_7_days', 0.093517665516231502), ('max_count_ema_q_6_7_days', 0.078452716209313947), ('max_average_ema_q_6_7_days', 0.078138162854380397), ('std_average_ema_q_6_7_days', 0.055483452397886088), ('std_count_ema_q_2_7_days', 0.044081784537782984), ('std_average_ema_q_4_7_days', 0.025653436384699017), ('min_average_ema_q_2_7_days', 0.024164811715558374), ('min_average_ema_q_7_7_days', 0.018948688320531655), ('min_count_ema_q_7_7_days', 0.018948688320531652), ('max_prior_engagement_7_days', 0.0065970260599639546), ('min_count_ema_q_5_7_days', -0.051259455855326784), ('min_average_ema_q_5_7_days', -0.051259455855326791), ('weekendDay', -0.061912476494747265), ('std_prior_engagement_7_days', -0.099109079718157314), ('avg_mod_total_pages_7_days', -0.14067106275651381), ('avg_mod_total_time_7_days', -0.14237702804732566), ('avg_mod_nr_sessions_7_days', -0.1454976189348626), ('max_mod_nr_sessions_7_days', -0.14695545808106039), ('max_mod_total_pages_7_days', -0.14695627642186279), ('max_mod_total_time_7_days', -0.14906637740163436), ('std_mod_nr_sessions_7_days', -0.14981098478889568), ('std_mod_total_time_7_days', -0.1500607714208399), ('std_mod_total_pages_7_days', -0.1506949620346949), ('avg_average_ema_q_2_7_days', -0.16942893232792708), ('max_average_ema_q_2_7_days', -0.23974951629789845), ('std_average_ema_q_2_7_days', -0.26162787121792341)]), 'top_features': ['avg_prior_engagement_7_days', 'max_average_ema_q_2_7_days', 'max_prior_engagement_7_days', 'max_count_ema_q_4_7_days', 'min_average_ema_q_2_7_days', 'std_average_ema_q_7_7_days', 'avg_count_ema_q_6_7_days', 'std_average_ema_q_4_7_days', 'avg_average_ema_q_6_7_days', 'min_mod_total_time_7_days', 'avg_average_ema_q_4_7_days', 'avg_average_ema_q_5_7_days', 'max_average_ema_q_5_7_days', 'min_count_ema_q_5_7_days', 'avg_average_ema_q_1_7_days', 'avg_mod_nr_sessions_7_days', 'avg_count_ema_q_5_7_days', 'min_average_ema_q_4_7_days', 'min_count_ema_q_1_7_days', 'min_count_ema_q_4_7_days']}, dtype=object)"
      ]
     },
     "execution_count": 13,
     "metadata": {},
     "output_type": "execute_result"
    }
   ],
   "source": [
    "load_patient_object('102066', '_top5_featureselection_')"
   ]
  }
 ],
 "metadata": {
  "kernelspec": {
   "display_name": "Python 3",
   "language": "python",
   "name": "python3"
  },
  "language_info": {
   "codemirror_mode": {
    "name": "ipython",
    "version": 3
   },
   "file_extension": ".py",
   "mimetype": "text/x-python",
   "name": "python",
   "nbconvert_exporter": "python",
   "pygments_lexer": "ipython3",
   "version": "3.6.3"
  },
  "varInspector": {
   "cols": {
    "lenName": 16,
    "lenType": 16,
    "lenVar": 40
   },
   "kernels_config": {
    "python": {
     "delete_cmd_postfix": "",
     "delete_cmd_prefix": "del ",
     "library": "var_list.py",
     "varRefreshCmd": "print(var_dic_list())"
    },
    "r": {
     "delete_cmd_postfix": ") ",
     "delete_cmd_prefix": "rm(",
     "library": "var_list.r",
     "varRefreshCmd": "cat(var_dic_list()) "
    }
   },
   "oldHeight": 565,
   "position": {
    "height": "40px",
    "left": "1399px",
    "right": "20px",
    "top": "125px",
    "width": "326px"
   },
   "types_to_exclude": [
    "module",
    "function",
    "builtin_function_or_method",
    "instance",
    "_Feature"
   ],
   "varInspector_section_display": "none",
   "window_display": true
  }
 },
 "nbformat": 4,
 "nbformat_minor": 2
}
