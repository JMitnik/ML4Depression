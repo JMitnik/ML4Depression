{
 "cells": [
  {
   "cell_type": "markdown",
   "metadata": {},
   "source": [
    "## Importing the associated modules"
   ]
  },
  {
   "cell_type": "code",
   "execution_count": 237,
   "metadata": {
    "ExecuteTime": {
     "end_time": "2018-06-28T10:56:02.868948Z",
     "start_time": "2018-06-28T10:56:02.773919Z"
    }
   },
   "outputs": [
    {
     "name": "stdout",
     "output_type": "stream",
     "text": [
      "The autoreload extension is already loaded. To reload it, use:\n",
      "  %reload_ext autoreload\n"
     ]
    }
   ],
   "source": [
    "%load_ext autoreload\n",
    "%autoreload 2\n",
    "\n",
    "import pandas as pd\n",
    "import numpy as np\n",
    "import matplotlib as plot\n",
    "import sklearn as sk\n",
    "from sklearn import metrics, linear_model, ensemble, neural_network, svm, dummy\n",
    "from helpers import *\n",
    "\n",
    "# Importing the different features\n",
    "from ema_features import get_EMA_features_and_target_for_patient\n",
    "from module_features import get_module_features_for_patient\n",
    "from context_features import get_weekend_days\n",
    "\n",
    "# Importing the machine learning module\n",
    "from predicting import train_algorithms, test_algorithms, eval_algorithms, plot_algorithms, make_algorithms\n",
    "from feature_selection import backward_selection, forward_selection, correlate_features, precalculated_feature_selection\n",
    "\n",
    "# Importing multiple patient wrapper\n",
    "from individual_wrappers import *"
   ]
  },
  {
   "cell_type": "markdown",
   "metadata": {},
   "source": [
    "## Initializing constants"
   ]
  },
  {
   "cell_type": "code",
   "execution_count": 225,
   "metadata": {
    "ExecuteTime": {
     "end_time": "2018-06-28T09:02:26.577268Z",
     "start_time": "2018-06-28T09:02:26.495180Z"
    }
   },
   "outputs": [],
   "source": [
    "SLIDING_WINDOW = 7\n",
    "RIDGE_ALPHAS = (0.0001, 0.0005, 0.001, 0.005, 0.01, 0.05, 0.1, 0.2, 0.3, 0.4, 0.5, 0.6, 0.7)\n",
    "LASSO_ALPHAS = (0.0001, 0.0005, 0.001, 0.005, 0.01, 0.05, 0.1, 0.5)\n",
    "MAX_PATIENTS = 10\n",
    "FEATURE_PATH = \"data/features/\""
   ]
  },
  {
   "cell_type": "markdown",
   "metadata": {},
   "source": [
    "## Defining our Machine Learning Algorithms"
   ]
  },
  {
   "cell_type": "code",
   "execution_count": 226,
   "metadata": {
    "ExecuteTime": {
     "end_time": "2018-06-28T09:02:31.303960Z",
     "start_time": "2018-06-28T09:02:31.197125Z"
    },
    "collapsed": true
   },
   "outputs": [],
   "source": [
    "ml_algorithms = [\n",
    "    {\n",
    "        \"name\": \"Lasso\",\n",
    "        \"model\": linear_model.LassoCV(alphas=CV_ALPHAS)\n",
    "    },\n",
    "    {\n",
    "        \"name\": \"Ridge\",\n",
    "        \"model\": linear_model.RidgeCV(alphas=RIDGE_ALPHAS)\n",
    "    },\n",
    "    {\n",
    "        \"name\": \"Random Forest\",\n",
    "        \"model\": ensemble.RandomForestRegressor(n_estimators=1000, max_depth=2)\n",
    "    },\n",
    "    {\n",
    "        \"name\": \"Dummy Mean Regressor\",\n",
    "        \"model\": dummy.DummyRegressor()\n",
    "    },\n",
    "    {\n",
    "        \"name\": \"SVR RBF\",\n",
    "        \"model\": svm.SVR()\n",
    "    }\n",
    "]"
   ]
  },
  {
   "cell_type": "markdown",
   "metadata": {},
   "source": [
    "## Initializing patients"
   ]
  },
  {
   "cell_type": "code",
   "execution_count": 233,
   "metadata": {
    "ExecuteTime": {
     "end_time": "2018-06-28T10:54:25.033135Z",
     "start_time": "2018-06-28T10:52:40.803367Z"
    },
    "collapsed": true
   },
   "outputs": [],
   "source": [
    "proper_patients = get_proper_patients(MAX_PATIENTS)"
   ]
  },
  {
   "cell_type": "markdown",
   "metadata": {
    "ExecuteTime": {
     "end_time": "2018-06-24T23:37:41.112651Z",
     "start_time": "2018-06-24T23:37:21.959736Z"
    }
   },
   "source": [
    "## Init-Step: Getting Features of the patients"
   ]
  },
  {
   "cell_type": "code",
   "execution_count": 228,
   "metadata": {
    "ExecuteTime": {
     "end_time": "2018-06-28T09:04:35.053718Z",
     "start_time": "2018-06-28T09:04:34.950849Z"
    },
    "collapsed": true
   },
   "outputs": [],
   "source": [
    "sample_patient = proper_patients[1:6]\n",
    "\n",
    "# sample_scores = get_patients_scores_and_features(sample_patient, ml_algorithms, 20)"
   ]
  },
  {
   "cell_type": "code",
   "execution_count": 229,
   "metadata": {
    "ExecuteTime": {
     "end_time": "2018-06-28T09:04:35.304990Z",
     "start_time": "2018-06-28T09:04:35.186548Z"
    },
    "collapsed": true
   },
   "outputs": [],
   "source": [
    "# sample_patient\n",
    "sample_scores = load_patients_object(sample_patient, '_top5_featureselection_')"
   ]
  },
  {
   "cell_type": "code",
   "execution_count": 173,
   "metadata": {
    "ExecuteTime": {
     "end_time": "2018-06-28T07:59:19.384618Z",
     "start_time": "2018-06-28T07:59:18.784075Z"
    }
   },
   "outputs": [],
   "source": [
    "# sample_scores[0]['top_features']"
   ]
  },
  {
   "cell_type": "code",
   "execution_count": 230,
   "metadata": {
    "ExecuteTime": {
     "end_time": "2018-06-28T09:15:38.076208Z",
     "start_time": "2018-06-28T09:04:35.436113Z"
    }
   },
   "outputs": [
    {
     "name": "stderr",
     "output_type": "stream",
     "text": [
      "/Users/jonathanmitnik/anaconda3/lib/python3.6/site-packages/sklearn/linear_model/coordinate_descent.py:491: ConvergenceWarning: Objective did not converge. You might want to increase the number of iterations. Fitting data with very small alpha may cause precision problems.\n",
      "  ConvergenceWarning)\n",
      "/Users/jonathanmitnik/anaconda3/lib/python3.6/site-packages/sklearn/linear_model/coordinate_descent.py:491: ConvergenceWarning: Objective did not converge. You might want to increase the number of iterations. Fitting data with very small alpha may cause precision problems.\n",
      "  ConvergenceWarning)\n",
      "/Users/jonathanmitnik/anaconda3/lib/python3.6/site-packages/sklearn/linear_model/coordinate_descent.py:491: ConvergenceWarning: Objective did not converge. You might want to increase the number of iterations. Fitting data with very small alpha may cause precision problems.\n",
      "  ConvergenceWarning)\n",
      "/Users/jonathanmitnik/anaconda3/lib/python3.6/site-packages/sklearn/linear_model/coordinate_descent.py:491: ConvergenceWarning: Objective did not converge. You might want to increase the number of iterations. Fitting data with very small alpha may cause precision problems.\n",
      "  ConvergenceWarning)\n",
      "/Users/jonathanmitnik/anaconda3/lib/python3.6/site-packages/sklearn/linear_model/coordinate_descent.py:491: ConvergenceWarning: Objective did not converge. You might want to increase the number of iterations. Fitting data with very small alpha may cause precision problems.\n",
      "  ConvergenceWarning)\n"
     ]
    }
   ],
   "source": [
    "end_results = learn_patients_setups(sample_scores, ml_algorithms, max_features=20)"
   ]
  },
  {
   "cell_type": "markdown",
   "metadata": {
    "ExecuteTime": {
     "end_time": "2018-06-28T08:18:44.672050Z",
     "start_time": "2018-06-28T08:18:44.625501Z"
    }
   },
   "source": [
    "### Convert the performance results to one DataFrame"
   ]
  },
  {
   "cell_type": "code",
   "execution_count": 248,
   "metadata": {
    "ExecuteTime": {
     "end_time": "2018-06-28T13:21:43.419315Z",
     "start_time": "2018-06-28T13:21:42.798682Z"
    }
   },
   "outputs": [
    {
     "data": {
      "text/html": [
       "<div>\n",
       "<style>\n",
       "    .dataframe thead tr:only-child th {\n",
       "        text-align: right;\n",
       "    }\n",
       "\n",
       "    .dataframe thead th {\n",
       "        text-align: left;\n",
       "    }\n",
       "\n",
       "    .dataframe tbody tr th {\n",
       "        vertical-align: top;\n",
       "    }\n",
       "</style>\n",
       "<table border=\"1\" class=\"dataframe\">\n",
       "  <thead>\n",
       "    <tr style=\"text-align: right;\">\n",
       "      <th></th>\n",
       "      <th>average_mae</th>\n",
       "    </tr>\n",
       "    <tr>\n",
       "      <th>feature_setup</th>\n",
       "      <th></th>\n",
       "    </tr>\n",
       "  </thead>\n",
       "  <tbody>\n",
       "    <tr>\n",
       "      <th>all_features</th>\n",
       "      <td>2.534200</td>\n",
       "    </tr>\n",
       "    <tr>\n",
       "      <th>corr_features</th>\n",
       "      <td>2.477782</td>\n",
       "    </tr>\n",
       "    <tr>\n",
       "      <th>top_features</th>\n",
       "      <td>2.491556</td>\n",
       "    </tr>\n",
       "  </tbody>\n",
       "</table>\n",
       "</div>"
      ],
      "text/plain": [
       "               average_mae\n",
       "feature_setup             \n",
       "all_features      2.534200\n",
       "corr_features     2.477782\n",
       "top_features      2.491556"
      ]
     },
     "execution_count": 248,
     "metadata": {},
     "output_type": "execute_result"
    }
   ],
   "source": [
    "topf_avg_performance = calc_avg_performance_from_models(ml_algorithms, end_results[0])\n",
    "fcorrelation_avg_performance = calc_avg_performance_from_models(ml_algorithms, end_results[1])\n",
    "allf_avg_performance = calc_avg_performance_from_models(ml_algorithms, end_results[2])\n",
    "topf_df = pd.DataFrame(topf_avg_performance)\n",
    "topf_df['feature_setup'] = pd.Series(['top_features' for i in range(1, len(topf_avg_performance) + 1)])\n",
    "\n",
    "allf_df = pd.DataFrame(allf_avg_performance)\n",
    "allf_df['feature_setup'] = pd.Series(['all_features' for i in range(1, len(allf_avg_performance) + 1)])\n",
    "allf_df\n",
    "\n",
    "corrf_df = pd.DataFrame(fcorrelation_avg_performance)\n",
    "corrf_df['feature_setup'] = pd.Series(['corr_features' for i in range(1, len(fcorrelation_avg_performance) + 1)])\n",
    "\n",
    "grouped_performances = topf_df.append(allf_df).append(corrf_df)\n",
    "groupby_statement = grouped_performances.groupby('feature_setup').mean()\n",
    "groupby_statement"
   ]
  },
  {
   "cell_type": "code",
   "execution_count": 117,
   "metadata": {
    "ExecuteTime": {
     "end_time": "2018-06-27T20:27:41.570061Z",
     "start_time": "2018-06-27T20:27:41.476521Z"
    }
   },
   "outputs": [
    {
     "data": {
      "text/plain": [
       "2.347204656122031"
      ]
     },
     "execution_count": 117,
     "metadata": {},
     "output_type": "execute_result"
    }
   ],
   "source": [
    "get_patients_mean_MAE_score(end_results[2])"
   ]
  },
  {
   "cell_type": "code",
   "execution_count": 235,
   "metadata": {
    "ExecuteTime": {
     "end_time": "2018-06-28T10:54:38.298855Z",
     "start_time": "2018-06-28T10:54:38.211726Z"
    }
   },
   "outputs": [
    {
     "data": {
      "text/plain": [
       "162"
      ]
     },
     "execution_count": 235,
     "metadata": {},
     "output_type": "execute_result"
    }
   ],
   "source": [
    "len(proper_patients)"
   ]
  },
  {
   "cell_type": "code",
   "execution_count": 238,
   "metadata": {
    "ExecuteTime": {
     "end_time": "2018-06-28T10:56:11.401711Z",
     "start_time": "2018-06-28T10:56:11.340247Z"
    }
   },
   "outputs": [],
   "source": [
    "all_patients = get_all_patients()"
   ]
  },
  {
   "cell_type": "code",
   "execution_count": 246,
   "metadata": {
    "ExecuteTime": {
     "end_time": "2018-06-28T10:57:54.207578Z",
     "start_time": "2018-06-28T10:57:54.152621Z"
    }
   },
   "outputs": [
    {
     "data": {
      "text/plain": [
       "311"
      ]
     },
     "execution_count": 246,
     "metadata": {},
     "output_type": "execute_result"
    }
   ],
   "source": [
    "len(all_patients[all_patients['xEmaNRatings'] > 7])\n",
    "# len(all_patients)"
   ]
  },
  {
   "cell_type": "code",
   "execution_count": 270,
   "metadata": {
    "ExecuteTime": {
     "end_time": "2018-06-28T13:43:40.119051Z",
     "start_time": "2018-06-28T13:43:40.044459Z"
    }
   },
   "outputs": [
    {
     "name": "stdout",
     "output_type": "stream",
     "text": [
      "\\begin{tabular}{ll}\n",
      "\\toprule\n",
      "{} &                            0 \\\\\n",
      "\\midrule\n",
      "0.061905 &   min\\_average\\_ema\\_q\\_2\\_7\\_days \\\\\n",
      "0.056190 &  avg\\_prior\\_engagement\\_7\\_days \\\\\n",
      "0.052381 &  max\\_prior\\_engagement\\_7\\_days \\\\\n",
      "0.051429 &  std\\_prior\\_engagement\\_7\\_days \\\\\n",
      "0.043810 &     min\\_count\\_ema\\_q\\_4\\_7\\_days \\\\\n",
      "0.037143 &   max\\_average\\_ema\\_q\\_2\\_7\\_days \\\\\n",
      "0.032381 &     std\\_count\\_ema\\_q\\_1\\_7\\_days \\\\\n",
      "0.030476 &   max\\_mod\\_total\\_pages\\_7\\_days \\\\\n",
      "0.030476 &     min\\_count\\_ema\\_q\\_7\\_7\\_days \\\\\n",
      "0.029524 &    std\\_mod\\_total\\_time\\_7\\_days \\\\\n",
      "0.028571 &                   weekendDay \\\\\n",
      "0.027619 &   max\\_average\\_ema\\_q\\_1\\_7\\_days \\\\\n",
      "0.024762 &     min\\_count\\_ema\\_q\\_6\\_7\\_days \\\\\n",
      "0.024762 &   std\\_average\\_ema\\_q\\_1\\_7\\_days \\\\\n",
      "0.023810 &   avg\\_average\\_ema\\_q\\_3\\_7\\_days \\\\\n",
      "0.023810 &   avg\\_average\\_ema\\_q\\_1\\_7\\_days \\\\\n",
      "0.022857 &   avg\\_mod\\_total\\_pages\\_7\\_days \\\\\n",
      "0.022857 &     min\\_count\\_ema\\_q\\_3\\_7\\_days \\\\\n",
      "0.020952 &   min\\_average\\_ema\\_q\\_4\\_7\\_days \\\\\n",
      "0.020000 &   avg\\_average\\_ema\\_q\\_2\\_7\\_days \\\\\n",
      "0.018095 &  min\\_prior\\_engagement\\_7\\_days \\\\\n",
      "0.016190 &     max\\_count\\_ema\\_q\\_5\\_7\\_days \\\\\n",
      "0.016190 &     avg\\_count\\_ema\\_q\\_1\\_7\\_days \\\\\n",
      "0.016190 &   avg\\_average\\_ema\\_q\\_4\\_7\\_days \\\\\n",
      "0.016190 &     max\\_count\\_ema\\_q\\_4\\_7\\_days \\\\\n",
      "0.015238 &    avg\\_mod\\_total\\_time\\_7\\_days \\\\\n",
      "0.014286 &   std\\_average\\_ema\\_q\\_6\\_7\\_days \\\\\n",
      "0.014286 &   std\\_average\\_ema\\_q\\_7\\_7\\_days \\\\\n",
      "0.013333 &    max\\_mod\\_total\\_time\\_7\\_days \\\\\n",
      "0.013333 &   avg\\_mod\\_nr\\_sessions\\_7\\_days \\\\\n",
      "0.013333 &     avg\\_count\\_ema\\_q\\_6\\_7\\_days \\\\\n",
      "0.012381 &   std\\_average\\_ema\\_q\\_4\\_7\\_days \\\\\n",
      "0.011429 &   avg\\_average\\_ema\\_q\\_5\\_7\\_days \\\\\n",
      "0.011429 &   avg\\_average\\_ema\\_q\\_6\\_7\\_days \\\\\n",
      "0.010476 &     std\\_count\\_ema\\_q\\_2\\_7\\_days \\\\\n",
      "0.010476 &   std\\_mod\\_total\\_pages\\_7\\_days \\\\\n",
      "0.010476 &    min\\_mod\\_total\\_time\\_7\\_days \\\\\n",
      "0.009524 &   max\\_average\\_ema\\_q\\_3\\_7\\_days \\\\\n",
      "0.009524 &     max\\_count\\_ema\\_q\\_1\\_7\\_days \\\\\n",
      "0.008571 &     std\\_count\\_ema\\_q\\_6\\_7\\_days \\\\\n",
      "0.008571 &   max\\_mod\\_nr\\_sessions\\_7\\_days \\\\\n",
      "0.007619 &   std\\_average\\_ema\\_q\\_5\\_7\\_days \\\\\n",
      "0.007619 &     std\\_count\\_ema\\_q\\_5\\_7\\_days \\\\\n",
      "0.007619 &   max\\_average\\_ema\\_q\\_5\\_7\\_days \\\\\n",
      "0.006667 &     min\\_count\\_ema\\_q\\_5\\_7\\_days \\\\\n",
      "0.005714 &   min\\_average\\_ema\\_q\\_3\\_7\\_days \\\\\n",
      "0.005714 &   min\\_mod\\_nr\\_sessions\\_7\\_days \\\\\n",
      "0.004762 &     max\\_count\\_ema\\_q\\_2\\_7\\_days \\\\\n",
      "0.003810 &   std\\_mod\\_nr\\_sessions\\_7\\_days \\\\\n",
      "0.003810 &     avg\\_count\\_ema\\_q\\_5\\_7\\_days \\\\\n",
      "0.002857 &     max\\_count\\_ema\\_q\\_3\\_7\\_days \\\\\n",
      "0.002857 &     max\\_count\\_ema\\_q\\_6\\_7\\_days \\\\\n",
      "0.001905 &   std\\_average\\_ema\\_q\\_3\\_7\\_days \\\\\n",
      "0.001905 &     min\\_count\\_ema\\_q\\_1\\_7\\_days \\\\\n",
      "0.000952 &   min\\_average\\_ema\\_q\\_1\\_7\\_days \\\\\n",
      "0.000952 &   avg\\_average\\_ema\\_q\\_7\\_7\\_days \\\\\n",
      "\\bottomrule\n",
      "\\end{tabular}\n",
      "\n"
     ]
    }
   ],
   "source": [
    "from functools import reduce\n",
    "x,y = get_top_features(sample_scores)\n",
    "\n",
    "total_score = reduce(lambda x,y:x+y, y)\n",
    "\n",
    "y_2 = np.array(y) / total_score\n",
    "print(pd.DataFrame(x,y_2).to_latex())"
   ]
  }
 ],
 "metadata": {
  "kernelspec": {
   "display_name": "Python 3",
   "language": "python",
   "name": "python3"
  },
  "language_info": {
   "codemirror_mode": {
    "name": "ipython",
    "version": 3
   },
   "file_extension": ".py",
   "mimetype": "text/x-python",
   "name": "python",
   "nbconvert_exporter": "python",
   "pygments_lexer": "ipython3",
   "version": "3.6.3"
  },
  "varInspector": {
   "cols": {
    "lenName": 16,
    "lenType": 16,
    "lenVar": 40
   },
   "kernels_config": {
    "python": {
     "delete_cmd_postfix": "",
     "delete_cmd_prefix": "del ",
     "library": "var_list.py",
     "varRefreshCmd": "print(var_dic_list())"
    },
    "r": {
     "delete_cmd_postfix": ") ",
     "delete_cmd_prefix": "rm(",
     "library": "var_list.r",
     "varRefreshCmd": "cat(var_dic_list()) "
    }
   },
   "oldHeight": 565,
   "position": {
    "height": "40px",
    "left": "1399px",
    "right": "20px",
    "top": "125px",
    "width": "326px"
   },
   "types_to_exclude": [
    "module",
    "function",
    "builtin_function_or_method",
    "instance",
    "_Feature"
   ],
   "varInspector_section_display": "none",
   "window_display": true
  }
 },
 "nbformat": 4,
 "nbformat_minor": 2
}
