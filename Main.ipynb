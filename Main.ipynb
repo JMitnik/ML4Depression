{
 "cells": [
  {
   "cell_type": "markdown",
   "metadata": {},
   "source": [
    "## Importing the associated modules"
   ]
  },
  {
   "cell_type": "code",
   "execution_count": 1,
   "metadata": {
    "ExecuteTime": {
     "end_time": "2018-06-26T00:49:36.149992Z",
     "start_time": "2018-06-26T00:49:33.867331Z"
    },
    "collapsed": true
   },
   "outputs": [],
   "source": [
    "%load_ext autoreload\n",
    "%autoreload 2\n",
    "\n",
    "import pandas as pd\n",
    "import numpy as np\n",
    "import matplotlib as plot\n",
    "import sklearn as sk\n",
    "from sklearn import metrics, linear_model, ensemble, neural_network, svm, dummy\n",
    "from helpers import *\n",
    "\n",
    "# Importing the different features\n",
    "from ema_features import get_EMA_features_and_target_for_patient\n",
    "from module_features import get_module_features_for_patient\n",
    "from context_features import get_weekend_days\n",
    "\n",
    "# Importing the machine learning module\n",
    "from predicting import train_algorithms, test_algorithms, eval_algorithms, plot_algorithms, make_algorithms\n",
    "from feature_selection import backward_selection, forward_selection, correlate_features, precalculated_feature_selection\n",
    "\n",
    "# Importing multiple patient wrapper\n",
    "from individual_wrappers import *"
   ]
  },
  {
   "cell_type": "markdown",
   "metadata": {},
   "source": [
    "## Initializing constants"
   ]
  },
  {
   "cell_type": "code",
   "execution_count": 2,
   "metadata": {
    "ExecuteTime": {
     "end_time": "2018-06-26T00:49:36.285950Z",
     "start_time": "2018-06-26T00:49:36.174117Z"
    },
    "collapsed": true
   },
   "outputs": [],
   "source": [
    "SLIDING_WINDOW = 7\n",
    "CV_ALPHAS = (0.1, 0.3, 0.5, 0.7, 0.9)\n",
    "MAX_PATIENTS = 10\n",
    "FEATURE_PATH = \"data/features/\""
   ]
  },
  {
   "cell_type": "markdown",
   "metadata": {},
   "source": [
    "## Defining our Machine Learning Algorithms"
   ]
  },
  {
   "cell_type": "code",
   "execution_count": 3,
   "metadata": {
    "ExecuteTime": {
     "end_time": "2018-06-26T00:49:36.591883Z",
     "start_time": "2018-06-26T00:49:36.288918Z"
    },
    "collapsed": true
   },
   "outputs": [],
   "source": [
    "ml_algorithms = [\n",
    "    {\n",
    "        \"name\": \"Lasso\",\n",
    "        \"model\": linear_model.LassoCV(alphas=CV_ALPHAS)\n",
    "    },\n",
    "    {\n",
    "        \"name\": \"Ridge\",\n",
    "        \"model\": linear_model.RidgeCV(alphas=CV_ALPHAS)\n",
    "    },\n",
    "    {\n",
    "        \"name\": \"Random Forest\",\n",
    "        \"model\": ensemble.RandomForestRegressor(n_estimators=1000, max_depth=2)\n",
    "    },\n",
    "    {\n",
    "        \"name\": \"Dummy Mean Regressor\",\n",
    "        \"model\": dummy.DummyRegressor()\n",
    "    },\n",
    "    {\n",
    "        \"name\": \"SVR RBF\",\n",
    "        \"model\": svm.SVR()\n",
    "    }\n",
    "]"
   ]
  },
  {
   "cell_type": "markdown",
   "metadata": {},
   "source": [
    "## Initializing patients"
   ]
  },
  {
   "cell_type": "code",
   "execution_count": 4,
   "metadata": {
    "ExecuteTime": {
     "end_time": "2018-06-26T00:51:03.505689Z",
     "start_time": "2018-06-26T00:49:36.603944Z"
    },
    "collapsed": true
   },
   "outputs": [],
   "source": [
    "proper_patients = get_proper_patients(MAX_PATIENTS)"
   ]
  },
  {
   "cell_type": "markdown",
   "metadata": {
    "ExecuteTime": {
     "end_time": "2018-06-24T23:37:41.112651Z",
     "start_time": "2018-06-24T23:37:21.959736Z"
    }
   },
   "source": [
    "## Init-Step: Getting Features of the patients"
   ]
  },
  {
   "cell_type": "code",
   "execution_count": 5,
   "metadata": {
    "ExecuteTime": {
     "end_time": "2018-06-26T00:53:14.609344Z",
     "start_time": "2018-06-26T00:51:03.508915Z"
    }
   },
   "outputs": [
    {
     "name": "stderr",
     "output_type": "stream",
     "text": [
      "/Users/jonathanmitnik/anaconda3/lib/python3.6/site-packages/sklearn/linear_model/coordinate_descent.py:491: ConvergenceWarning: Objective did not converge. You might want to increase the number of iterations. Fitting data with very small alpha may cause precision problems.\n",
      "  ConvergenceWarning)\n",
      "/Users/jonathanmitnik/anaconda3/lib/python3.6/site-packages/sklearn/linear_model/coordinate_descent.py:491: ConvergenceWarning: Objective did not converge. You might want to increase the number of iterations. Fitting data with very small alpha may cause precision problems.\n",
      "  ConvergenceWarning)\n",
      "/Users/jonathanmitnik/anaconda3/lib/python3.6/site-packages/scipy/stats/stats.py:3021: RuntimeWarning: invalid value encountered in double_scalars\n",
      "  r = r_num / r_den\n"
     ]
    }
   ],
   "source": [
    "sample_patient = proper_patients[:1]\n",
    "\n",
    "sample_scores = get_patients_scores_and_features(sample_patient, ml_algorithms, 1)"
   ]
  },
  {
   "cell_type": "code",
   "execution_count": 13,
   "metadata": {
    "ExecuteTime": {
     "end_time": "2018-06-26T00:57:56.993697Z",
     "start_time": "2018-06-26T00:57:21.295681Z"
    }
   },
   "outputs": [
    {
     "name": "stdout",
     "output_type": "stream",
     "text": [
      "Index(['avg_count_ema_q_1_7_days', 'min_count_ema_q_1_7_days',\n",
      "       'max_count_ema_q_1_7_days', 'std_count_ema_q_1_7_days',\n",
      "       'avg_count_ema_q_2_7_days', 'min_count_ema_q_2_7_days',\n",
      "       'max_count_ema_q_2_7_days', 'std_count_ema_q_2_7_days',\n",
      "       'avg_count_ema_q_3_7_days', 'min_count_ema_q_3_7_days',\n",
      "       'max_count_ema_q_3_7_days', 'std_count_ema_q_3_7_days',\n",
      "       'avg_count_ema_q_4_7_days', 'min_count_ema_q_4_7_days',\n",
      "       'max_count_ema_q_4_7_days', 'std_count_ema_q_4_7_days',\n",
      "       'avg_count_ema_q_5_7_days', 'min_count_ema_q_5_7_days',\n",
      "       'max_count_ema_q_5_7_days', 'std_count_ema_q_5_7_days',\n",
      "       'avg_count_ema_q_6_7_days', 'min_count_ema_q_6_7_days',\n",
      "       'max_count_ema_q_6_7_days', 'std_count_ema_q_6_7_days',\n",
      "       'avg_count_ema_q_7_7_days', 'min_count_ema_q_7_7_days',\n",
      "       'max_count_ema_q_7_7_days', 'std_count_ema_q_7_7_days',\n",
      "       'avg_average_ema_q_1_7_days', 'min_average_ema_q_1_7_days',\n",
      "       'max_average_ema_q_1_7_days', 'std_average_ema_q_1_7_days',\n",
      "       'avg_average_ema_q_2_7_days', 'min_average_ema_q_2_7_days',\n",
      "       'max_average_ema_q_2_7_days', 'std_average_ema_q_2_7_days',\n",
      "       'avg_average_ema_q_3_7_days', 'min_average_ema_q_3_7_days',\n",
      "       'max_average_ema_q_3_7_days', 'std_average_ema_q_3_7_days',\n",
      "       'avg_average_ema_q_4_7_days', 'min_average_ema_q_4_7_days',\n",
      "       'max_average_ema_q_4_7_days', 'std_average_ema_q_4_7_days',\n",
      "       'avg_average_ema_q_5_7_days', 'min_average_ema_q_5_7_days',\n",
      "       'max_average_ema_q_5_7_days', 'std_average_ema_q_5_7_days',\n",
      "       'avg_average_ema_q_6_7_days', 'min_average_ema_q_6_7_days',\n",
      "       'max_average_ema_q_6_7_days', 'std_average_ema_q_6_7_days',\n",
      "       'avg_average_ema_q_7_7_days', 'min_average_ema_q_7_7_days',\n",
      "       'max_average_ema_q_7_7_days', 'std_average_ema_q_7_7_days',\n",
      "       'avg_prior_engagement_7_days', 'min_prior_engagement_7_days',\n",
      "       'max_prior_engagement_7_days', 'std_prior_engagement_7_days',\n",
      "       'avg_mod_total_time_7_days', 'min_mod_total_time_7_days',\n",
      "       'max_mod_total_time_7_days', 'std_mod_total_time_7_days',\n",
      "       'avg_mod_total_pages_7_days', 'min_mod_total_pages_7_days',\n",
      "       'max_mod_total_pages_7_days', 'std_mod_total_pages_7_days',\n",
      "       'avg_mod_nr_sessions_7_days', 'min_mod_nr_sessions_7_days',\n",
      "       'max_mod_nr_sessions_7_days', 'std_mod_nr_sessions_7_days',\n",
      "       'weekendDay'],\n",
      "      dtype='object')\n"
     ]
    },
    {
     "name": "stderr",
     "output_type": "stream",
     "text": [
      "/Users/jonathanmitnik/anaconda3/lib/python3.6/site-packages/sklearn/linear_model/coordinate_descent.py:491: ConvergenceWarning: Objective did not converge. You might want to increase the number of iterations. Fitting data with very small alpha may cause precision problems.\n",
      "  ConvergenceWarning)\n",
      "/Users/jonathanmitnik/anaconda3/lib/python3.6/site-packages/sklearn/linear_model/coordinate_descent.py:491: ConvergenceWarning: Objective did not converge. You might want to increase the number of iterations. Fitting data with very small alpha may cause precision problems.\n",
      "  ConvergenceWarning)\n"
     ]
    },
    {
     "name": "stdout",
     "output_type": "stream",
     "text": [
      "Index(['avg_count_ema_q_6_7_days', 'avg_count_ema_q_4_7_days',\n",
      "       'avg_prior_engagement_7_days', 'avg_count_ema_q_7_7_days',\n",
      "       'avg_count_ema_q_3_7_days', 'avg_count_ema_q_5_7_days',\n",
      "       'max_count_ema_q_4_7_days', 'avg_count_ema_q_2_7_days',\n",
      "       'avg_average_ema_q_4_7_days', 'max_count_ema_q_7_7_days',\n",
      "       'max_count_ema_q_3_7_days', 'max_count_ema_q_6_7_days',\n",
      "       'avg_count_ema_q_1_7_days', 'max_count_ema_q_5_7_days',\n",
      "       'std_count_ema_q_4_7_days', 'max_prior_engagement_7_days',\n",
      "       'std_count_ema_q_7_7_days', 'avg_average_ema_q_3_7_days',\n",
      "       'std_count_ema_q_6_7_days', 'avg_average_ema_q_6_7_days'],\n",
      "      dtype='object')\n"
     ]
    }
   ],
   "source": [
    "end_results = learn_patients_setups(sample_scores, ml_algorithms, max_features=20)"
   ]
  },
  {
   "cell_type": "code",
   "execution_count": 18,
   "metadata": {
    "ExecuteTime": {
     "end_time": "2018-06-26T00:59:12.245924Z",
     "start_time": "2018-06-26T00:59:12.120573Z"
    }
   },
   "outputs": [
    {
     "data": {
      "text/plain": [
       "2.7678084217885455"
      ]
     },
     "execution_count": 18,
     "metadata": {},
     "output_type": "execute_result"
    }
   ],
   "source": [
    "get_patients_mean_MAE_score(end_results[0])"
   ]
  }
 ],
 "metadata": {
  "kernelspec": {
   "display_name": "Python 3",
   "language": "python",
   "name": "python3"
  },
  "language_info": {
   "codemirror_mode": {
    "name": "ipython",
    "version": 3
   },
   "file_extension": ".py",
   "mimetype": "text/x-python",
   "name": "python",
   "nbconvert_exporter": "python",
   "pygments_lexer": "ipython3",
   "version": "3.6.3"
  },
  "varInspector": {
   "cols": {
    "lenName": 16,
    "lenType": 16,
    "lenVar": 40
   },
   "kernels_config": {
    "python": {
     "delete_cmd_postfix": "",
     "delete_cmd_prefix": "del ",
     "library": "var_list.py",
     "varRefreshCmd": "print(var_dic_list())"
    },
    "r": {
     "delete_cmd_postfix": ") ",
     "delete_cmd_prefix": "rm(",
     "library": "var_list.r",
     "varRefreshCmd": "cat(var_dic_list()) "
    }
   },
   "oldHeight": 565,
   "position": {
    "height": "40px",
    "left": "1587px",
    "right": "20px",
    "top": "968px",
    "width": "326px"
   },
   "types_to_exclude": [
    "module",
    "function",
    "builtin_function_or_method",
    "instance",
    "_Feature"
   ],
   "varInspector_section_display": "none",
   "window_display": true
  }
 },
 "nbformat": 4,
 "nbformat_minor": 2
}
